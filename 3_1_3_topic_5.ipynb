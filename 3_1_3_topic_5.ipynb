{
  "metadata": {
    "language_info": {
      "codemirror_mode": {
        "name": "python",
        "version": 3
      },
      "file_extension": ".py",
      "mimetype": "text/x-python",
      "name": "python",
      "nbconvert_exporter": "python",
      "pygments_lexer": "ipython3",
      "version": "3.8"
    },
    "kernelspec": {
      "name": "python",
      "display_name": "Python (Pyodide)",
      "language": "python"
    }
  },
  "nbformat_minor": 4,
  "nbformat": 4,
  "cells": [
    {
      "cell_type": "code",
      "source": "import numpy as np\nimport math\n\nk, n = 0, 10\na = np.random.randint(0, 2, n)\nb = np.random.randint(0, 2, n)\nc = np.random.randint(0, 2, n)\nd = np.random.randint(0, 2, n)\nx = a + b + c + d\nfor i in range(0, n):\n    if x[i] == 2:\n        k += 1\nk_1 = 2\nn_1 = 4\np_1 = 0.5\nq_1 = 1 - p_1\nc_1 = math.factorial(n_1) / (math.factorial(k_1) * math.factorial(n_1 - k_1))\np = c_1 * (p_1 ** k_1) * (q_1 ** (n_1 - k_1))\np_2 = (math.factorial(n) / (math.factorial(k) * math.factorial(n - k))) * (1 / 2 ** n)\nprint(a, b, c, d)\nprint(x)\nprint(k, n, k / n)\nprint(p)\nif p == k / n:\n    print(True)\nelse:\n    print(False)\n\n",
      "metadata": {
        "trusted": true
      },
      "execution_count": 1,
      "outputs": [
        {
          "name": "stdout",
          "text": "[0 1 1 1 0 1 1 1 0 1] [1 1 1 1 0 0 0 0 0 1] [0 1 1 0 0 1 1 1 0 0] [1 0 1 0 0 1 1 1 1 0]\n[2 3 4 2 0 3 3 3 1 2]\n3 10 0.3\n0.375\nFalse\n",
          "output_type": "stream"
        }
      ]
    },
    {
      "cell_type": "code",
      "source": "",
      "metadata": {},
      "execution_count": null,
      "outputs": []
    }
  ]
}