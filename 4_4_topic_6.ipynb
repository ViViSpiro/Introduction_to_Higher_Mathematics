{
  "metadata": {
    "language_info": {
      "codemirror_mode": {
        "name": "python",
        "version": 3
      },
      "file_extension": ".py",
      "mimetype": "text/x-python",
      "name": "python",
      "nbconvert_exporter": "python",
      "pygments_lexer": "ipython3",
      "version": "3.8"
    },
    "kernelspec": {
      "name": "python",
      "display_name": "Python (Pyodide)",
      "language": "python"
    }
  },
  "nbformat_minor": 4,
  "nbformat": 4,
  "cells": [
    {
      "cell_type": "code",
      "source": "import numpy as np\nimport scipy.linalg\n\nA = np.array([[1, 2, 3], [2, 16, 21], [4, 28, 73]])\nP, L, U = scipy.linalg.lu(A)\nprint(P)\nprint(L)\nprint(U)\nprint(np.dot(P.transpose(), A) - np.dot(L, U))",
      "metadata": {
        "trusted": true
      },
      "execution_count": 3,
      "outputs": [
        {
          "name": "stdout",
          "text": "[[0. 1. 0.]\n [0. 0. 1.]\n [1. 0. 0.]]\n[[ 1.    0.    0.  ]\n [ 0.25  1.    0.  ]\n [ 0.5  -0.4   1.  ]]\n[[  4.    28.    73.  ]\n [  0.    -5.   -15.25]\n [  0.     0.   -21.6 ]]\n[[0. 0. 0.]\n [0. 0. 0.]\n [0. 0. 0.]]\n",
          "output_type": "stream"
        }
      ]
    }
  ]
}