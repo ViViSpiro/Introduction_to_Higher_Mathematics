{
  "metadata": {
    "language_info": {
      "codemirror_mode": {
        "name": "python",
        "version": 3
      },
      "file_extension": ".py",
      "mimetype": "text/x-python",
      "name": "python",
      "nbconvert_exporter": "python",
      "pygments_lexer": "ipython3",
      "version": "3.8"
    },
    "kernelspec": {
      "name": "python",
      "display_name": "Python (Pyodide)",
      "language": "python"
    }
  },
  "nbformat_minor": 4,
  "nbformat": 4,
  "cells": [
    {
      "cell_type": "code",
      "source": "import itertools\n\nfor p in itertools.permutations(\"0123456\", 3):\n    print(\" \".join(p))",
      "metadata": {
        "trusted": true
      },
      "execution_count": 3,
      "outputs": [
        {
          "name": "stdout",
          "text": "0 1 2\n0 1 3\n0 1 4\n0 1 5\n0 1 6\n0 2 1\n0 2 3\n0 2 4\n0 2 5\n0 2 6\n0 3 1\n0 3 2\n0 3 4\n0 3 5\n0 3 6\n0 4 1\n0 4 2\n0 4 3\n0 4 5\n0 4 6\n0 5 1\n0 5 2\n0 5 3\n0 5 4\n0 5 6\n0 6 1\n0 6 2\n0 6 3\n0 6 4\n0 6 5\n1 0 2\n1 0 3\n1 0 4\n1 0 5\n1 0 6\n1 2 0\n1 2 3\n1 2 4\n1 2 5\n1 2 6\n1 3 0\n1 3 2\n1 3 4\n1 3 5\n1 3 6\n1 4 0\n1 4 2\n1 4 3\n1 4 5\n1 4 6\n1 5 0\n1 5 2\n1 5 3\n1 5 4\n1 5 6\n1 6 0\n1 6 2\n1 6 3\n1 6 4\n1 6 5\n2 0 1\n2 0 3\n2 0 4\n2 0 5\n2 0 6\n2 1 0\n2 1 3\n2 1 4\n2 1 5\n2 1 6\n2 3 0\n2 3 1\n2 3 4\n2 3 5\n2 3 6\n2 4 0\n2 4 1\n2 4 3\n2 4 5\n2 4 6\n2 5 0\n2 5 1\n2 5 3\n2 5 4\n2 5 6\n2 6 0\n2 6 1\n2 6 3\n2 6 4\n2 6 5\n3 0 1\n3 0 2\n3 0 4\n3 0 5\n3 0 6\n3 1 0\n3 1 2\n3 1 4\n3 1 5\n3 1 6\n3 2 0\n3 2 1\n3 2 4\n3 2 5\n3 2 6\n3 4 0\n3 4 1\n3 4 2\n3 4 5\n3 4 6\n3 5 0\n3 5 1\n3 5 2\n3 5 4\n3 5 6\n3 6 0\n3 6 1\n3 6 2\n3 6 4\n3 6 5\n4 0 1\n4 0 2\n4 0 3\n4 0 5\n4 0 6\n4 1 0\n4 1 2\n4 1 3\n4 1 5\n4 1 6\n4 2 0\n4 2 1\n4 2 3\n4 2 5\n4 2 6\n4 3 0\n4 3 1\n4 3 2\n4 3 5\n4 3 6\n4 5 0\n4 5 1\n4 5 2\n4 5 3\n4 5 6\n4 6 0\n4 6 1\n4 6 2\n4 6 3\n4 6 5\n5 0 1\n5 0 2\n5 0 3\n5 0 4\n5 0 6\n5 1 0\n5 1 2\n5 1 3\n5 1 4\n5 1 6\n5 2 0\n5 2 1\n5 2 3\n5 2 4\n5 2 6\n5 3 0\n5 3 1\n5 3 2\n5 3 4\n5 3 6\n5 4 0\n5 4 1\n5 4 2\n5 4 3\n5 4 6\n5 6 0\n5 6 1\n5 6 2\n5 6 3\n5 6 4\n6 0 1\n6 0 2\n6 0 3\n6 0 4\n6 0 5\n6 1 0\n6 1 2\n6 1 3\n6 1 4\n6 1 5\n6 2 0\n6 2 1\n6 2 3\n6 2 4\n6 2 5\n6 3 0\n6 3 1\n6 3 2\n6 3 4\n6 3 5\n6 4 0\n6 4 1\n6 4 2\n6 4 3\n6 4 5\n6 5 0\n6 5 1\n6 5 2\n6 5 3\n6 5 4\n",
          "output_type": "stream"
        }
      ]
    },
    {
      "cell_type": "code",
      "source": "for p in itertools.combinations(\"0123456\", 3):\n    print(\" \".join(p))",
      "metadata": {
        "trusted": true
      },
      "execution_count": 4,
      "outputs": [
        {
          "name": "stdout",
          "text": "0 1 2\n0 1 3\n0 1 4\n0 1 5\n0 1 6\n0 2 3\n0 2 4\n0 2 5\n0 2 6\n0 3 4\n0 3 5\n0 3 6\n0 4 5\n0 4 6\n0 5 6\n1 2 3\n1 2 4\n1 2 5\n1 2 6\n1 3 4\n1 3 5\n1 3 6\n1 4 5\n1 4 6\n1 5 6\n2 3 4\n2 3 5\n2 3 6\n2 4 5\n2 4 6\n2 5 6\n3 4 5\n3 4 6\n3 5 6\n4 5 6\n",
          "output_type": "stream"
        }
      ]
    }
  ]
}