{
  "metadata": {
    "language_info": {
      "codemirror_mode": {
        "name": "python",
        "version": 3
      },
      "file_extension": ".py",
      "mimetype": "text/x-python",
      "name": "python",
      "nbconvert_exporter": "python",
      "pygments_lexer": "ipython3",
      "version": "3.8"
    },
    "kernelspec": {
      "name": "python",
      "display_name": "Python (Pyodide)",
      "language": "python"
    }
  },
  "nbformat_minor": 4,
  "nbformat": 4,
  "cells": [
    {
      "cell_type": "code",
      "source": "import numpy as np\n\nA = np.array([[1, 2, 3], [4, 5, 6], [7, 8, 9]])\nB = np.array([[2, 5, 1]])\nC = np.concatenate((A, B.T), axis=1)\nprint(f\"The matrix:\\n {C}\")\nprint(f\"Matrix rank:\\n {np.linalg.matrix_rank(A, 0.0001)}, {np.linalg.matrix_rank(C, 0.0001)}\")\n\nA_1 = np.array([[1, 2, 3], [4, 5, 6], [7, 8, 9]])\nB_1 = np.array([[0, 0, 0]])\nC_1 = np.concatenate((A_1, B_1.T), axis=1)\nprint(f\"New matrix:\\n {C_1}\")\nprint(f\"The rank of the new matrix:\\n {np.linalg.matrix_rank(A_1, 0.0001)}, {np.linalg.matrix_rank(C_1, 0.0001)}\")\n\nif len(A_1) > np.linalg.matrix_rank(A_1, 0.0001):\n    print(f\"The system has an infinite number of solutions.\")\nelse:\n    print(np.linalg.solve(A_1, B_2))\n",
      "metadata": {
        "trusted": true
      },
      "execution_count": 3,
      "outputs": [
        {
          "name": "stdout",
          "text": "The matrix:\n [[1 2 3 2]\n [4 5 6 5]\n [7 8 9 1]]\nMatrix rank:\n 2, 3\nNew matrix:\n [[1 2 3 0]\n [4 5 6 0]\n [7 8 9 0]]\nThe rank of the new matrix:\n 2, 2\nThe system has an infinite number of solutions.\n",
          "output_type": "stream"
        }
      ]
    }
  ]
}