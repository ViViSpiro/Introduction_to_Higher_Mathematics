{
  "metadata": {
    "language_info": {
      "codemirror_mode": {
        "name": "python",
        "version": 3
      },
      "file_extension": ".py",
      "mimetype": "text/x-python",
      "name": "python",
      "nbconvert_exporter": "python",
      "pygments_lexer": "ipython3",
      "version": "3.8"
    },
    "kernelspec": {
      "name": "python",
      "display_name": "Python (Pyodide)",
      "language": "python"
    }
  },
  "nbformat_minor": 4,
  "nbformat": 4,
  "cells": [
    {
      "cell_type": "code",
      "source": "import numpy as np\n\nA = np.array([[1, 2, 3], [4, 5, 6], [7, 8, 9]])\nB = np.array([2, 5, 11])\nQ, R = np.linalg.qr(A)\nprint(A)\nprint(Q)\nprint(R)",
      "metadata": {
        "trusted": true
      },
      "execution_count": 3,
      "outputs": [
        {
          "name": "stdout",
          "text": "[[1 2 3]\n [4 5 6]\n [7 8 9]]\n[[-0.12309149  0.90453403  0.40824829]\n [-0.49236596  0.30151134 -0.81649658]\n [-0.86164044 -0.30151134  0.40824829]]\n[[-8.12403840e+00 -9.60113630e+00 -1.10782342e+01]\n [ 0.00000000e+00  9.04534034e-01  1.80906807e+00]\n [ 0.00000000e+00  0.00000000e+00 -8.88178420e-16]]\n",
          "output_type": "stream"
        }
      ]
    },
    {
      "cell_type": "code",
      "source": "print(np.dot(Q, R))\nprint(np.dot(np.transpose(Q), Q))",
      "metadata": {
        "trusted": true
      },
      "execution_count": 4,
      "outputs": [
        {
          "name": "stdout",
          "text": "[[1. 2. 3.]\n [4. 5. 6.]\n [7. 8. 9.]]\n[[ 1.00000000e+00 -2.22044605e-16  0.00000000e+00]\n [-2.22044605e-16  1.00000000e+00  1.38777878e-17]\n [ 0.00000000e+00  1.38777878e-17  1.00000000e+00]]\n",
          "output_type": "stream"
        }
      ]
    },
    {
      "cell_type": "code",
      "source": "R1 = R[:2, :2]\nprint(R1)",
      "metadata": {
        "trusted": true
      },
      "execution_count": 5,
      "outputs": [
        {
          "name": "stdout",
          "text": "[[-8.1240384  -9.6011363 ]\n [ 0.          0.90453403]]\n",
          "output_type": "stream"
        }
      ]
    },
    {
      "cell_type": "code",
      "source": "B1 = np.dot(np.transpose(Q), B)[:2]\nprint(B1)",
      "metadata": {
        "trusted": true
      },
      "execution_count": 6,
      "outputs": [
        {
          "name": "stdout",
          "text": "[-1.21860576e+01  3.55271368e-15]\n",
          "output_type": "stream"
        }
      ]
    },
    {
      "cell_type": "code",
      "source": "X1 = np.linalg.solve(R1, B1)\nprint(X1)",
      "metadata": {
        "trusted": true
      },
      "execution_count": 7,
      "outputs": [
        {
          "name": "stdout",
          "text": "[1.50000000e+00 3.92767275e-15]\n",
          "output_type": "stream"
        }
      ]
    },
    {
      "cell_type": "code",
      "source": "X = np.append(X1, 0)\nprint(X)\nprint(np.linalg.norm(X))",
      "metadata": {
        "trusted": true
      },
      "execution_count": 8,
      "outputs": [
        {
          "name": "stdout",
          "text": "[1.50000000e+00 3.92767275e-15 0.00000000e+00]\n1.499999999999996\n",
          "output_type": "stream"
        }
      ]
    },
    {
      "cell_type": "code",
      "source": "print(np.linalg.norm(np.dot(A, X) - B))",
      "metadata": {
        "trusted": true
      },
      "execution_count": 9,
      "outputs": [
        {
          "name": "stdout",
          "text": "1.224744871391589\n",
          "output_type": "stream"
        }
      ]
    },
    {
      "cell_type": "code",
      "source": "X = np.array([1.5, 1, 0.5])\nprint(np.linalg.norm(X), np.linalg.norm(np.dot(A, X) - B))",
      "metadata": {
        "trusted": true
      },
      "execution_count": 10,
      "outputs": [
        {
          "name": "stdout",
          "text": "1.8708286933869707 15.297058540778355\n",
          "output_type": "stream"
        }
      ]
    }
  ]
}