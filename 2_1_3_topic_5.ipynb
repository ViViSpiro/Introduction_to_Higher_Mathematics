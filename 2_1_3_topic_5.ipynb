{
  "metadata": {
    "language_info": {
      "codemirror_mode": {
        "name": "python",
        "version": 3
      },
      "file_extension": ".py",
      "mimetype": "text/x-python",
      "name": "python",
      "nbconvert_exporter": "python",
      "pygments_lexer": "ipython3",
      "version": "3.8"
    },
    "kernelspec": {
      "name": "python",
      "display_name": "Python (Pyodide)",
      "language": "python"
    }
  },
  "nbformat_minor": 4,
  "nbformat": 4,
  "cells": [
    {
      "cell_type": "code",
      "source": "import numpy as np\n\nk, m, y, j = 0, 0, 0, 0\nn = 100\nfor i in range(0, n):\n    x = np.random.uniform(0, 36)\n    j += 1\n    if x == 0:\n        y += 1\n    elif x <= 18:\n        k += 1\n    else:\n        m += 1\nif k + m + y == j:\n    print(True)\nelse:\n    print(False)\nprint(k, m, y, j)\n",
      "metadata": {
        "trusted": true
      },
      "execution_count": 2,
      "outputs": [
        {
          "name": "stdout",
          "text": "True\n44 56 0 100\n",
          "output_type": "stream"
        }
      ]
    }
  ]
}