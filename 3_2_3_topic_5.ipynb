{
  "metadata": {
    "language_info": {
      "codemirror_mode": {
        "name": "python",
        "version": 3
      },
      "file_extension": ".py",
      "mimetype": "text/x-python",
      "name": "python",
      "nbconvert_exporter": "python",
      "pygments_lexer": "ipython3",
      "version": "3.8"
    },
    "kernelspec": {
      "name": "python",
      "display_name": "Python (Pyodide)",
      "language": "python"
    }
  },
  "nbformat_minor": 4,
  "nbformat": 4,
  "cells": [
    {
      "cell_type": "code",
      "source": "import numpy as np\nimport math\n\nk, n = 0, 100\na = np.random.randint(0, 2, n)\nb = np.random.randint(0, 2, n)\nc = np.random.randint(0, 2, n)\nd = np.random.randint(0, 2, n)\nx = a + b + c + d\nfor i in range(0, n):\n    if x[i] == 3:\n        k += 1\nk_1 = 3\nn_1 = 4\np_1 = 0.5\nq_1 = 1 - p_1\nc_1 = math.factorial(n_1) / (math.factorial(k_1) * math.factorial(n_1 - k_1))\np = c_1 * (p_1 ** k_1) * (q_1 ** (n_1 - k_1))\nprint(x)\nprint(k, n, k / n)\nprint(p)\nif p == k / n:\n    print(True)\nelse:\n    print(False)\n\n",
      "metadata": {
        "trusted": true
      },
      "execution_count": 2,
      "outputs": [
        {
          "name": "stdout",
          "text": "[4 3 2 1 2 1 1 3 3 2 2 3 1 3 3 1 1 3 1 2 1 1 2 0 3 0 3 1 2 0 2 2 3 2 2 1 0\n 2 1 2 1 2 0 2 3 2 1 3 3 3 3 4 3 2 1 0 2 1 3 2 2 1 0 2 3 1 3 1 2 2 1 3 1 1\n 2 3 1 1 0 1 2 3 2 2 2 3 3 2 0 2 0 2 0 3 3 3 1 2 1 2]\n27 100 0.27\n0.25\nFalse\n",
          "output_type": "stream"
        }
      ]
    },
    {
      "cell_type": "code",
      "source": "",
      "metadata": {},
      "execution_count": null,
      "outputs": []
    }
  ]
}