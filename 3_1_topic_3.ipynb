{
  "metadata": {
    "language_info": {
      "codemirror_mode": {
        "name": "python",
        "version": 3
      },
      "file_extension": ".py",
      "mimetype": "text/x-python",
      "name": "python",
      "nbconvert_exporter": "python",
      "pygments_lexer": "ipython3",
      "version": "3.8"
    },
    "kernelspec": {
      "name": "python",
      "display_name": "Pyolite",
      "language": "python"
    }
  },
  "nbformat_minor": 4,
  "nbformat": 4,
  "cells": [
    {
      "cell_type": "code",
      "source": "import math\n\n\ndef pol_to_cart(R, a):\n    x = R * math.cos(math.radians(a))\n    y = R * math.sin(math.radians(a))\n    return x, y\n\n\nprint(pol_to_cart(10, 45))\n",
      "metadata": {
        "trusted": true
      },
      "execution_count": 1,
      "outputs": [
        {
          "name": "stdout",
          "text": "(7.0710678118654755, 7.071067811865475)\n",
          "output_type": "stream"
        }
      ]
    }
  ]
}